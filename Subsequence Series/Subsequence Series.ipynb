{
 "cells": [
  {
   "cell_type": "markdown",
   "metadata": {},
   "source": [
    "# Subsequence Series\n",
    "\n",
    "## 0. How to Loop Through Subsequence"
   ]
  },
  {
   "cell_type": "markdown",
   "metadata": {},
   "source": [
    "## 1. Palindromic Subsequence\n",
    "\n",
    "**Method: Using 2D DP**: `dp[start][end]`\n",
    "* We fill this DP bottom up where dp[start][end] represents the longest palindromic subsequence that start and end at such index. Hence, if s[start] != s[end], then dp[start][end] = max(dp[start][end-1], dp[start+1][end])"
   ]
  },
  {
   "cell_type": "code",
   "execution_count": 4,
   "metadata": {},
   "outputs": [],
   "source": [
    "# the number of the palindrome subsequences are large, hence not memorized in the dp\n",
    "def longestPalindromeSubseq(s):\n",
    "    def isPal(s):\n",
    "        if s[0] != s[-1]: return False\n",
    "        else:\n",
    "            return isPal(s[1:-1])\n",
    "\n",
    "    dp = [[0 for _ in s] for _ in s]\n",
    "    for i in range(len(s)):\n",
    "        dp[i][i] = 1\n",
    "\n",
    "\n",
    "    for start in range(len(s)-2,-1,-1):\n",
    "        for end in range(start+1, len(s)):\n",
    "            if s[start] == s[end]:\n",
    "                dp[start][end] = dp[start+1][end-1] +2\n",
    "            else:\n",
    "                dp[start][end] = max(dp[start][end-1], dp[start+1][end])\n",
    "   \n",
    "    return dp[0][-1]"
   ]
  },
  {
   "cell_type": "code",
   "execution_count": 5,
   "metadata": {},
   "outputs": [
    {
     "data": {
      "text/plain": [
       "11"
      ]
     },
     "execution_count": 5,
     "metadata": {},
     "output_type": "execute_result"
    }
   ],
   "source": [
    "s = 'abdnfkdnfnfndndndnnd'\n",
    "longestPalindromeSubseq(s)"
   ]
  },
  {
   "cell_type": "markdown",
   "metadata": {},
   "source": [
    "## 2. Increasing Subsequence:\n",
    "**Method: Using 1D DP** `dp[end]`: as start is always in index 0\n",
    "\n",
    "* `dp[i]` represents the maximum elements in the increasing subsequence ending at nums[i]\n",
    "* At each point i, we compare nums[i] with its previous elements `[nums[j] for j in range(0,i)]`"
   ]
  },
  {
   "cell_type": "code",
   "execution_count": 2,
   "metadata": {},
   "outputs": [],
   "source": [
    "def lengthOfLIS(nums): \n",
    "    if not nums: return 0\n",
    "    dp = [1] * len(nums)\n",
    "    for i in range(1, len(nums)): \n",
    "        v = 1\n",
    "        for j in range(0, i):\n",
    "            if nums[i] > nums[j]:\n",
    "                v = max(v, dp[j]+1)\n",
    "        dp[i] = v\n",
    "    return max(dp)"
   ]
  },
  {
   "cell_type": "code",
   "execution_count": 3,
   "metadata": {},
   "outputs": [
    {
     "data": {
      "text/plain": [
       "4"
      ]
     },
     "execution_count": 3,
     "metadata": {},
     "output_type": "execute_result"
    }
   ],
   "source": [
    "nums = [10,9,2,5,3,7,101,18]\n",
    "lengthOfLIS(nums)"
   ]
  },
  {
   "cell_type": "code",
   "execution_count": null,
   "metadata": {},
   "outputs": [],
   "source": []
  },
  {
   "cell_type": "markdown",
   "metadata": {},
   "source": [
    "## 3. Subsequence Sum to Target\n",
    "\n",
    "#### 3Sum: https://leetcode.com/problems/3sum/\n",
    "**Method:**\n",
    "* Use 3 pointers to find the subsequence. Loop through pointer1 (from 0 to len(nums)-2 index), initiate 2 other pointers to move through the sorted list to find the corresponding sum to target\n"
   ]
  },
  {
   "cell_type": "code",
   "execution_count": 6,
   "metadata": {},
   "outputs": [],
   "source": [
    "def threeSum(nums):\n",
    "    \"\"\"\n",
    "    :type nums: List[int]\n",
    "    :rtype: List[List[int]]\n",
    "    \"\"\"\n",
    "    nums.sort()\n",
    "    ans = []\n",
    "\n",
    "    for i in range(len(nums)-2):\n",
    "        if i>0 and nums[i] == nums[i-1]:\n",
    "            continue\n",
    "        left, right = i+1, len(nums)-1\n",
    "        while left <right:\n",
    "            sum_ = nums[i] + nums[left] + nums[right]\n",
    "            if sum_ <0: left += 1\n",
    "            elif sum_ >0: right -= 1\n",
    "            else:\n",
    "                ans.append([nums[i], nums[left], nums[right]])\n",
    "                print(i, left, right)\n",
    "                while left<right and nums[left] == nums[left+1]: left +=1\n",
    "                while left<right and nums[right] == nums[right-1]: right -=1\n",
    "                left += 1\n",
    "                right -= 1\n",
    "    return ans"
   ]
  },
  {
   "cell_type": "code",
   "execution_count": 7,
   "metadata": {},
   "outputs": [
    {
     "name": "stdout",
     "output_type": "stream",
     "text": [
      "1 2 5\n",
      "1 3 4\n"
     ]
    },
    {
     "data": {
      "text/plain": [
       "[[-1, -1, 2], [-1, 0, 1]]"
      ]
     },
     "execution_count": 7,
     "metadata": {},
     "output_type": "execute_result"
    }
   ],
   "source": [
    "nums = [-1, 0, 1, 2, -1, -4]\n",
    "threeSum(nums)"
   ]
  },
  {
   "cell_type": "code",
   "execution_count": null,
   "metadata": {},
   "outputs": [],
   "source": []
  }
 ],
 "metadata": {
  "kernelspec": {
   "display_name": "Python 3",
   "language": "python",
   "name": "python3"
  },
  "language_info": {
   "codemirror_mode": {
    "name": "ipython",
    "version": 3
   },
   "file_extension": ".py",
   "mimetype": "text/x-python",
   "name": "python",
   "nbconvert_exporter": "python",
   "pygments_lexer": "ipython3",
   "version": "3.7.3"
  }
 },
 "nbformat": 4,
 "nbformat_minor": 2
}
