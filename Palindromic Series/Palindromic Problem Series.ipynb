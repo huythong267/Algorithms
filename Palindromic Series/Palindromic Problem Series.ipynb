{
 "cells": [
  {
   "cell_type": "markdown",
   "metadata": {},
   "source": [
    "# Palindromic Problem Series\n",
    "\n",
    "## 1. What is a palindrome?\n",
    "\n",
    "A palindrome is defined as a word, phrase, or sequence that reads the same backward as forward.\n",
    "\n",
    "#### Base Problem: Check if a string is a palindrome\n",
    "One way to determine if a string is a palindrome is to check if the reversed string is similar to the original string (by definition). The alternative (and more efficient) way is to recursively check if the string left-most and right-most are similar. If any of the left-most/right-most pair fails the condition, the string is not a palindrome. "
   ]
  },
  {
   "cell_type": "code",
   "execution_count": 17,
   "metadata": {},
   "outputs": [],
   "source": [
    "# one way\n",
    "def isPal(s):\n",
    "    return s == s[::-1]\n",
    "\n",
    "# another way: <-- this is a better way\n",
    "def isPal2(s):\n",
    "    if len(s) < 2: return True\n",
    "    if s[0] != s[-1]: return False\n",
    "    else: return isPal(s[1:-1])"
   ]
  },
  {
   "cell_type": "code",
   "execution_count": 18,
   "metadata": {},
   "outputs": [
    {
     "name": "stdout",
     "output_type": "stream",
     "text": [
      "True\n",
      "False\n",
      "True\n",
      "False\n"
     ]
    }
   ],
   "source": [
    "print(isPal('madam'))\n",
    "print(isPal('hello'))\n",
    "\n",
    "print(isPal2('madam'))\n",
    "print(isPal2('hello'))"
   ]
  },
  {
   "cell_type": "markdown",
   "metadata": {},
   "source": [
    "## 2. Palindromic Substring (LeetCode Problem #5) \n",
    "The condition that we need to check for a string is rather simple. How about a palindrome substring? How can we find the longest palidromic substring from its original string? **How more/less complex this problem is compared to the previous problem?**\n",
    "\n",
    "It is noticeable that while conditions to check (isPal) is still the same, the number of input strings (size of the data) to check for this condition is growing.\n",
    "\n",
    "If we list these substrings out, we would need 2 for-loop to list out:\n"
   ]
  },
  {
   "cell_type": "code",
   "execution_count": 1,
   "metadata": {},
   "outputs": [
    {
     "name": "stdout",
     "output_type": "stream",
     "text": [
      "['a', 'ab', 'abc', 'b', 'bc', 'c']\n"
     ]
    }
   ],
   "source": [
    "s = 'abc'\n",
    "ans = []\n",
    "for start in range(len(s)):\n",
    "    for end in range(start +1, len(s)+1):\n",
    "            ans.append(s[start:end]) \n",
    "\n",
    "print(ans)"
   ]
  },
  {
   "cell_type": "markdown",
   "metadata": {},
   "source": [
    "**Since the input data grow, we need some way to keep track of (1) the newly generated data and (2) the True/False condition of whether each string in the new dataset is a palindrome.**\n",
    "\n",
    "There are at least 2 to do this:\n",
    "\n",
    "- Use 2 for-loop to generate data and one variable to store the current max length of the palindromic substring\n",
    "- Use Dynamic Programming to store length and T/F palindromic condition of the string \n",
    "\n",
    "- Use DFS to find longest substring that is a palindrome (maybe????)\n",
    "\n",
    "### Method 1: `For` Loop"
   ]
  },
  {
   "cell_type": "code",
   "execution_count": 81,
   "metadata": {},
   "outputs": [],
   "source": [
    "## Use 2 for-loop: (Time Limit Exceeded error on LeetCode)\n",
    "def longestPalindrome(s):\n",
    "    def isPal(s):\n",
    "        if len(s) <2: return True\n",
    "        if s[0] != s[-1]: return False\n",
    "        else: return isPal(s[1:-1])\n",
    "\n",
    "    if len(s) == 0: return ''\n",
    "    if len(s) == 1: return s\n",
    "    \n",
    "    _len = 1\n",
    "    ans = ''\n",
    "    for start in range(len(s)):\n",
    "        for end in range(1, len(s)+1):\n",
    "            if isPal(s[start:end]):\n",
    "                if _len < end-start+1:\n",
    "                    _len, ans = end-start+1, s[start:end]\n",
    "    return ans"
   ]
  },
  {
   "cell_type": "code",
   "execution_count": 2,
   "metadata": {},
   "outputs": [],
   "source": [
    "## Use for loop and while loop from center\n",
    "def longestPalindrome(s):\n",
    "    def isPal(a):\n",
    "            if len(a)<2:     return True\n",
    "            if a[0] != a[-1]: return False\n",
    "            else: return isPal(a[1:-1])\n",
    "    \n",
    "    if isPal(s):\n",
    "        return s\n",
    "\n",
    "    _max  = 0\n",
    "    out = ''\n",
    "\n",
    "    for center in range(0, len(s)*2-1):\n",
    "        left = center//2\n",
    "        right = center//2 + center%2\n",
    "\n",
    "        while left >=0 and right<len(s) and s[left] == s[right]:\n",
    "            #print(left, right)\n",
    "            if right-left+1 > _max:\n",
    "                _max, out = right+1-left, s[left:right+1]\n",
    "\n",
    "            left, right = left-1, right+1\n",
    "    return out"
   ]
  },
  {
   "cell_type": "code",
   "execution_count": 11,
   "metadata": {},
   "outputs": [
    {
     "name": "stdout",
     "output_type": "stream",
     "text": [
      "Wall time: 1.01 ms\n"
     ]
    },
    {
     "data": {
      "text/plain": [
       "'ababbaba'"
      ]
     },
     "execution_count": 11,
     "metadata": {},
     "output_type": "execute_result"
    }
   ],
   "source": [
    "%%time\n",
    "longestPalindrome('abababbabaa')"
   ]
  },
  {
   "cell_type": "markdown",
   "metadata": {},
   "source": [
    "### Method 2: Dynamic Programming\n",
    "\n",
    "A good video explanation of the method: https://www.youtube.com/watch?v=Fi5INvcmDos\n",
    "\n",
    "In the below solution, we'll fill (half of) a 2D DP matrix bottom up, with with `DP[start][end]` contains T/F (1/0) information of whether a string `s[start:end]` is a palindrome."
   ]
  },
  {
   "cell_type": "code",
   "execution_count": 17,
   "metadata": {},
   "outputs": [],
   "source": [
    "## Use DP: Create 2 2D DP object to store the value True/False value of the substring \n",
    "def longestPalindrome(s):\n",
    "    def isPal(s):\n",
    "        if len(s) <2: return True\n",
    "        if s[0] != s[-1]: return False\n",
    "        else: return isPal(s[1:-1])               \n",
    "    # start main DP\n",
    "    if isPal(s):\n",
    "        return s\n",
    "    ## Base cases\n",
    "    if len(s) == 0: return ''\n",
    "    if len(s) == 1: return s\n",
    "\n",
    "    ## DP\n",
    "    # initiate a DP with all ones\n",
    "    dp = [[1 for _ in s] for _ in s] \n",
    "\n",
    "    # set default maxLen = 1, out = s[0]\n",
    "    _max = 1\n",
    "    out = s[0]\n",
    "\n",
    "    for start in range(len(s)-2,-1,-1):    # from 0 to len(s)-2\n",
    "        for end in range(start+1, len(s)): # from start +1 to len(s)-1\n",
    "            if s[start] == s[end]:\n",
    "                dp[start][end] = dp[start+1][end-1]\n",
    "                if dp[start][end] and _max < end+1-start:\n",
    "                    #print(start, end, s[start:end+1])\n",
    "                    _max, out = end+1-start, s[start:end+1]\n",
    "            else:\n",
    "                dp[start][end] = 0\n",
    "    return _max"
   ]
  },
  {
   "cell_type": "code",
   "execution_count": 18,
   "metadata": {},
   "outputs": [
    {
     "name": "stdout",
     "output_type": "stream",
     "text": [
      "Wall time: 0 ns\n"
     ]
    },
    {
     "data": {
      "text/plain": [
       "8"
      ]
     },
     "execution_count": 18,
     "metadata": {},
     "output_type": "execute_result"
    }
   ],
   "source": [
    "%%time\n",
    "longestPalindrome('abababbabaa')"
   ]
  },
  {
   "cell_type": "markdown",
   "metadata": {},
   "source": [
    "## 3. Palindromic Subsequence (LeetCode Problem #516)\n",
    "\n",
    "Unlike a substring, a subsequence is a ordered subset of the original string and is not neccessarily continuous.\n",
    "\n",
    "This problem can also be solved using a 2D DP, however, this DP is a little different from the previous one.\n",
    "\n",
    "* In the Substring problem, the `dp[start][end]` represents the entire substring start and end at such index. Hence, if s[start] != s[end], then the `dp[start][end] = 0`.\n",
    "* In the Subsequence problem, the `dp[start][end]` represents the longest palindromic subsequence that start and end at such index. Hence, if s[start] != s[end], then `dp[start][end] = max(dp[start][end-1], dp[start+1][end])`\n"
   ]
  },
  {
   "cell_type": "code",
   "execution_count": 19,
   "metadata": {},
   "outputs": [],
   "source": [
    "# the number of the palindrome subsequences are large, hence not memorized in the dp\n",
    "def longestPalindromeSubseq(s):\n",
    "    def isPal(s):\n",
    "        if s[0] != s[-1]: return False\n",
    "        else:\n",
    "            return isPal(s[1:-1])\n",
    "\n",
    "    dp = [[0 for _ in s] for _ in s]\n",
    "    for i in range(len(s)):\n",
    "        dp[i][i] = 1\n",
    "\n",
    "\n",
    "    for start in range(len(s)-2,-1,-1):\n",
    "        for end in range(start+1, len(s)):\n",
    "            if s[start] == s[end]:\n",
    "                dp[start][end] = dp[start+1][end-1] +2\n",
    "            else:\n",
    "                dp[start][end] = max(dp[start][end-1], dp[start+1][end])\n",
    "   \n",
    "    return dp[0][-1]"
   ]
  },
  {
   "cell_type": "code",
   "execution_count": 20,
   "metadata": {},
   "outputs": [
    {
     "data": {
      "text/plain": [
       "10"
      ]
     },
     "execution_count": 20,
     "metadata": {},
     "output_type": "execute_result"
    }
   ],
   "source": [
    "longestPalindromeSubseq('abababbabaa')"
   ]
  },
  {
   "cell_type": "code",
   "execution_count": null,
   "metadata": {},
   "outputs": [],
   "source": []
  },
  {
   "cell_type": "code",
   "execution_count": null,
   "metadata": {},
   "outputs": [],
   "source": []
  },
  {
   "cell_type": "code",
   "execution_count": null,
   "metadata": {},
   "outputs": [],
   "source": []
  }
 ],
 "metadata": {
  "kernelspec": {
   "display_name": "Python 3",
   "language": "python",
   "name": "python3"
  },
  "language_info": {
   "codemirror_mode": {
    "name": "ipython",
    "version": 3
   },
   "file_extension": ".py",
   "mimetype": "text/x-python",
   "name": "python",
   "nbconvert_exporter": "python",
   "pygments_lexer": "ipython3",
   "version": "3.7.3"
  }
 },
 "nbformat": 4,
 "nbformat_minor": 2
}
